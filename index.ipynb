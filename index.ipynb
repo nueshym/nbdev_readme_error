{
 "cells": [
  {
   "cell_type": "code",
   "execution_count": null,
   "metadata": {},
   "outputs": [],
   "source": [
    "#|eval: False\n",
    "import numpy as np\n",
    "import matplotlib.pyplot as plt\n",
    "\n",
    "plt.imshow(np.random.normal(0,1,(64,64)))"
   ]
  },
  {
   "cell_type": "markdown",
   "metadata": {},
   "source": [
    "# Config value"
   ]
  },
  {
   "cell_type": "code",
   "execution_count": null,
   "metadata": {},
   "outputs": [],
   "source": [
    "from nbdev.config import get_config\n",
    "get_config().readme_nb"
   ]
  },
  {
   "cell_type": "markdown",
   "metadata": {},
   "source": [
    "# NOTE: `index.ipynb`(notebook used for generating README.md) contains fig image."
   ]
  },
  {
   "cell_type": "markdown",
   "metadata": {},
   "source": [
    "# 1st time calling `nbdev_readme()`; works fine.\n",
    "\n",
    "Does following:\n",
    "- Export README.md to root dir\n",
    "- Create `<name_of_readme_file>_files` (`index_files` in this case) directory in root dir and export fig image inside of it"
   ]
  },
  {
   "cell_type": "code",
   "execution_count": null,
   "metadata": {},
   "outputs": [],
   "source": [
    "from nbdev.quarto import nbdev_readme\n",
    "nbdev_readme()"
   ]
  },
  {
   "cell_type": "markdown",
   "metadata": {},
   "source": [
    "# 2nd time calling `nbdev_readme()`\n",
    "fails with error message: \n",
    "```\n",
    "FileExistsError: [Errno 17] File exists: '<abs_path_to_root>/index_files'\n",
    "```      \n",
    "Need to check and remove exsisting `<name_of_readme_file>_files` directory beforehand"
   ]
  },
  {
   "cell_type": "code",
   "execution_count": null,
   "metadata": {},
   "outputs": [],
   "source": [
    "nbdev_readme()"
   ]
  },
  {
   "cell_type": "code",
   "execution_count": null,
   "metadata": {},
   "outputs": [],
   "source": []
  }
 ],
 "metadata": {
  "kernelspec": {
   "display_name": "Python 3.10.5 ('imtexpy')",
   "language": "python",
   "name": "python3"
  },
  "language_info": {
   "codemirror_mode": {
    "name": "ipython",
    "version": 3
   },
   "file_extension": ".py",
   "mimetype": "text/x-python",
   "name": "python",
   "nbconvert_exporter": "python",
   "pygments_lexer": "ipython3",
   "version": "3.10.5"
  },
  "vscode": {
   "interpreter": {
    "hash": "f6c503edcac4c14cd26a4d005878889be6eac9da9238e5996f52a166e670c3d9"
   }
  }
 },
 "nbformat": 4,
 "nbformat_minor": 4
}
